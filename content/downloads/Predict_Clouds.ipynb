{
 "metadata": {
  "name": "",
  "signature": "sha256:76987ebf22e99af3cb7918f1a33aadf624cca08b6291e1c9e1d54285082501de"
 },
 "nbformat": 3,
 "nbformat_minor": 0,
 "worksheets": [
  {
   "cells": [
    {
     "cell_type": "markdown",
     "metadata": {},
     "source": [
      "# Cloud Cover Estimation\n",
      "Use this notebook to predict the cloud cover for the given parameters at McDonald Observatory! Note that you will need to go to the [weather archive site](http://weather.as.utexas.edu/cgi-bin/weather/weather-query.pl) to get the small and large dust size! You should probably grab the temperature, pressure, and relative humidity from there too since they have more significant digits than the wx monitors. To get the data:\n",
      "\n",
      "  - Go to the site linked above\n",
      "  - Check the 'Standard data' box\n",
      "  - Hit the 'Search' button\n",
      "  - Check the following fields:\n",
      "    - TEMP_AVG\n",
      "    - R.H._AVG\n",
      "    - PRESS_AVG\n",
      "    - DUST1_CRNT  (this is the small dust count)\n",
      "    - DUST2_CRNT  (this is the large dust count)\n",
      "  - Set the radio button under 'Weather data' to either 'View' or 'Download'\n",
      "  - Hit the 'Fetch Data' button\n",
      "  - The most recent values will be the last entry on the screen."
     ]
    },
    {
     "cell_type": "code",
     "collapsed": false,
     "input": [
      "import pickle\n",
      "import numpy as np"
     ],
     "language": "python",
     "metadata": {},
     "outputs": [],
     "prompt_number": 2
    },
    {
     "cell_type": "code",
     "collapsed": false,
     "input": [
      "# Change the file for the appropriate filesystem, if available.\n",
      "f = open('data/classifier_linux_x86_64.pkl')\n",
      "clf = pickle.load(f)\n",
      "scaler = pickle.load(f)\n",
      "f.close()"
     ],
     "language": "python",
     "metadata": {},
     "outputs": [],
     "prompt_number": 12
    },
    {
     "cell_type": "code",
     "collapsed": false,
     "input": [
      "# Set these values to what you see on the monitor\n",
      "T = 27.549  #Temperature (degrees Fahrenheit)\n",
      "P = 23.586  #Pressure\n",
      "RH = 76.829 #Relative humidity\n",
      "Dust_small = 1615900\n",
      "Dust_large = 7135.8"
     ],
     "language": "python",
     "metadata": {},
     "outputs": [],
     "prompt_number": 13
    },
    {
     "cell_type": "code",
     "collapsed": false,
     "input": [
      "# Combine the dust values\n",
      "dust = np.log10(Dust_small + Dust_large)\n",
      "\n",
      "# Calculate dew point, since that is what I used in the classifier\n",
      "T_kelvin = (T-32.0)*5./9. + 273.\n",
      "Es = np.exp(5423*(1.0/273. - 1.0/T_kelvin))\n",
      "Td_F = (1./273. - (1./5423.)*np.log(RH*Es/100.))**-1\n",
      "Td = (Td_F - 273.)*9./5. + 32\n",
      "\n",
      "# Make the array\n",
      "X = np.array((T, P, Td, dust))\n",
      "\n",
      "# Scale the array\n",
      "X_norm = scaler.transform(X)\n",
      "\n",
      "# Predict the cloudiness\n",
      "cloudiness = clf.predict(X_norm)\n",
      "\n",
      "if cloudiness == 0:\n",
      "    print('It is clear!')\n",
      "elif cloudiness == 1:\n",
      "    print('It is partly cloudy!')\n",
      "elif cloudiness == 2:\n",
      "    print('It is very cloudy!')\n",
      "else:\n",
      "    print('Something weird happened!')"
     ],
     "language": "python",
     "metadata": {},
     "outputs": [
      {
       "output_type": "stream",
       "stream": "stdout",
       "text": [
        "It is very cloudy!\n"
       ]
      }
     ],
     "prompt_number": 14
    },
    {
     "cell_type": "code",
     "collapsed": false,
     "input": [],
     "language": "python",
     "metadata": {},
     "outputs": []
    }
   ],
   "metadata": {}
  }
 ]
}